{
 "cells": [
  {
   "cell_type": "markdown",
   "id": "consolidated-spread",
   "metadata": {},
   "source": [
    "We want to set boudaries for the overall output for $ x*w + b $ or  $z = x*w+b $ and pass this z value to activation function to limit its value.\n",
    "\n",
    " - Sigmoid\n",
    " - Tanh\n",
    " - Relu\n",
    " -  Softmax"
   ]
  },
  {
   "cell_type": "markdown",
   "id": "automatic-apparel",
   "metadata": {},
   "source": [
    "##### 1. Sigmoid (logistic, soft step)"
   ]
  },
  {
   "cell_type": "markdown",
   "id": "hired-italy",
   "metadata": {},
   "source": [
    "![sigmoid](images/Activation_Functions/sigmoid.png)\n",
    " - Sigmoid function outputs values in between 0 and 1. \n",
    " - Function f(x) :-  $ \\sigma(x) = \\frac{1}{1+e^{-x}} $\n",
    " - Derivative   :- $ f(x)(1-f(x)) $"
   ]
  },
  {
   "cell_type": "markdown",
   "id": "disciplinary-associate",
   "metadata": {},
   "source": [
    "#### 2. Tanh"
   ]
  },
  {
   "cell_type": "markdown",
   "id": "prescription-fruit",
   "metadata": {},
   "source": [
    "![tanh](images/Activation_Functions/tanh.png)\n",
    "\n",
    " - Tanh function outputs values in between -1 and 1. \n",
    " - Function f(x) :-  $ tanh(x) = \\frac{sinhx}{coshx} = \\frac{e^{x}-e^{-x}}{e^{x}+e^{-x}}$\n",
    " - Derivative   :- $ 1-f(x)^2 $"
   ]
  },
  {
   "cell_type": "markdown",
   "id": "organic-gathering",
   "metadata": {},
   "source": [
    "#### 3. Relu"
   ]
  },
  {
   "cell_type": "markdown",
   "id": "sought-architecture",
   "metadata": {},
   "source": [
    "![Relu](images/Activation_Functions/relu.png)\n",
    "\n",
    " - Relu function outputs values in between 0 and max(x). \n",
    " - Function f(x) :-  $ max(0, x) $"
   ]
  },
  {
   "cell_type": "markdown",
   "id": "correct-chassis",
   "metadata": {},
   "source": [
    "Relu has been found to have very good performance, expecially when dealing with the issue of vanishing gradient also overall has good performance"
   ]
  },
  {
   "cell_type": "markdown",
   "id": "daily-healing",
   "metadata": {},
   "source": [
    "##### 4. Softmax "
   ]
  },
  {
   "cell_type": "markdown",
   "id": "arbitrary-madagascar",
   "metadata": {},
   "source": [
    "![Softmax](images/Activation_Functions/softmax.png)\n",
    "\n",
    " - Softmax function outputs values in between 0 and 1 and the sum of all probabilities will be 0 to 1. The model return the probabilities for each class and the target class chosen will have the highest probability"
   ]
  },
  {
   "cell_type": "code",
   "execution_count": null,
   "id": "patent-sleeping",
   "metadata": {},
   "outputs": [],
   "source": []
  }
 ],
 "metadata": {
  "kernelspec": {
   "display_name": "pytorchenv",
   "language": "python",
   "name": "pytorchenv"
  },
  "language_info": {
   "codemirror_mode": {
    "name": "ipython",
    "version": 3
   },
   "file_extension": ".py",
   "mimetype": "text/x-python",
   "name": "python",
   "nbconvert_exporter": "python",
   "pygments_lexer": "ipython3",
   "version": "3.7.3"
  }
 },
 "nbformat": 4,
 "nbformat_minor": 5
}
