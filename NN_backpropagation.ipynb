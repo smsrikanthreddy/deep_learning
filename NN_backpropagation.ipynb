{
 "cells": [
  {
   "cell_type": "markdown",
   "id": "outdoor-overall",
   "metadata": {},
   "source": [
    "Fundamentally, we want to know, how the cost function change with update to its weights (w) in the network. So we can update the weights to minimize the cost function. The goal of backpropagation is to optimize the weights so that the neural network can learn how to correctly map arbitrary inputs to outputs."
   ]
  },
  {
   "cell_type": "markdown",
   "id": "northern-nation",
   "metadata": {},
   "source": [
    "#### Backpropagation"
   ]
  },
  {
   "cell_type": "markdown",
   "id": "pregnant-resistance",
   "metadata": {},
   "source": [
    "For this tutorial, we’re going to use a neural network with two inputs, two hidden neurons, two output neurons. Additionally, the hidden and output neurons will include a bias."
   ]
  },
  {
   "cell_type": "markdown",
   "id": "familiar-savage",
   "metadata": {},
   "source": [
    "Here’s the basic structure:\n",
    "\n",
    "![NN](images/NN/NN_1.png)\n",
    "\n",
    "In order to have some numbers to work with, here are the **initial weights**, the **biases**, and **training inputs/outputs**\n",
    "\n",
    "![](images/NN/NN_1_numbers.png)\n",
    "\n",
    "The goal of backpropagation is to optimize the weights so that the neural network can learn how to correctly map arbitrary inputs to outputs.\n",
    "\n",
    "For the rest of this tutorial we’re going to work with a single training set: given inputs 0.05 and 0.10, we want the neural network to output 0.01 and 0.99."
   ]
  },
  {
   "cell_type": "markdown",
   "id": "three-banking",
   "metadata": {},
   "source": [
    "### Feedword pass"
   ]
  },
  {
   "cell_type": "markdown",
   "id": "minute-runner",
   "metadata": {},
   "source": [
    "In order to fully understand **backpropagation**, first we need to compute the feedforward pass. So it is important to understand about the feedforward propagation. Please go through below link before continuing."
   ]
  },
  {
   "cell_type": "markdown",
   "id": "accessible-siemens",
   "metadata": {},
   "source": [
    "[FeedForward Pass](https://github.com/smsrikanthreddy/deep_learning/blob/main/NN_Feedforward.ipynb)"
   ]
  },
  {
   "cell_type": "markdown",
   "id": "threatened-moore",
   "metadata": {},
   "source": [
    "### Backpropagation"
   ]
  },
  {
   "cell_type": "markdown",
   "id": "offshore-genome",
   "metadata": {},
   "source": [
    "Our goal with backpropagation is to update each of the weights in the network so that they cause the actual output to be closer the target output, thereby minimizing the error for each output neuron and the network as a whole."
   ]
  },
  {
   "cell_type": "markdown",
   "id": "respective-prayer",
   "metadata": {},
   "source": [
    "##### Output Layer"
   ]
  },
  {
   "cell_type": "markdown",
   "id": "promising-lewis",
   "metadata": {},
   "source": [
    "Consider $w_5$. We want to know how much a change in $w_5$ affects the total error, aka $\\frac{\\partial E_{total}}{\\partial w_{5}}.$\n",
    "\n",
    "\n",
    "$\\frac{\\partial E_{total}}{\\partial w_{5}}$ know as partial derivative of $E_{total}$ with respect to $w_5$/gradient with respect to $w_5$\n",
    "\n",
    "By applying the [chain rule](https://en.wikipedia.org/wiki/Chain_rule) we know that:\n",
    "![](images/NN/bp_1.PNG)\n",
    "\n",
    "We need to figure out each piece in this equation.\n",
    "\n",
    "First, how much does the total error change with respect to the output?\n",
    "\n",
    " $$ E_{total} = \\frac{1}{2}(target_{o1} - out_{o1})^2 + \\frac{1}{2}(target_{o2} - out_{o2})^2 $$\n",
    " $$ \\frac{\\partial{E_{total}}}{\\partial{out_{o1}}}  = 2 * \\frac{1}{2} (target_{o1} - out_{o1})^2 * -1 + 0 $$\n",
    " $$ \\frac{\\partial{E_{total}}}{\\partial{out_{o1}}}  = -(target_{o1} - out_{o1}) = -(0.01 - 0.75136507) = 0.74136507 $$\n",
    " \n",
    "Next, how much does the output of o_1 change with respect to its total net input?\n",
    "The partial derivative of the logistic function is the output multiplied by 1 minus the output:\n",
    "\n",
    "$$ out_{o1} = \\frac{1}{1+e^{-net_{o1}}} $$\n",
    "$$ \\frac{\\partial{E_{total}}}{\\partial{out_{o1}}}  = -out_{o1}(1 - out_{o1}) = 0.751365071(1-0.751365071) = 0.186815602 $$\n",
    "\n",
    "Finally, how much does the total net input of o1 change with respect to $w_5$?\n"
   ]
  },
  {
   "cell_type": "code",
   "execution_count": null,
   "id": "decent-elder",
   "metadata": {},
   "outputs": [],
   "source": []
  },
  {
   "cell_type": "code",
   "execution_count": null,
   "id": "placed-extent",
   "metadata": {},
   "outputs": [],
   "source": []
  },
  {
   "cell_type": "code",
   "execution_count": null,
   "id": "developed-albany",
   "metadata": {},
   "outputs": [],
   "source": []
  },
  {
   "cell_type": "code",
   "execution_count": null,
   "id": "virtual-cincinnati",
   "metadata": {},
   "outputs": [],
   "source": []
  },
  {
   "cell_type": "code",
   "execution_count": null,
   "id": "weighted-generic",
   "metadata": {},
   "outputs": [],
   "source": []
  },
  {
   "cell_type": "code",
   "execution_count": null,
   "id": "indie-festival",
   "metadata": {},
   "outputs": [],
   "source": []
  },
  {
   "cell_type": "code",
   "execution_count": null,
   "id": "electric-choice",
   "metadata": {},
   "outputs": [],
   "source": []
  },
  {
   "cell_type": "markdown",
   "id": "manufactured-swing",
   "metadata": {},
   "source": [
    "### References\n",
    "-  https://mattmazur.com/2015/03/17/a-step-by-step-backpropagation-example/\n",
    "-  http://neuralnetworksanddeeplearning.com/chap2.html"
   ]
  },
  {
   "cell_type": "code",
   "execution_count": null,
   "id": "ceramic-danish",
   "metadata": {},
   "outputs": [],
   "source": []
  }
 ],
 "metadata": {
  "kernelspec": {
   "display_name": "pytorchenv",
   "language": "python",
   "name": "pytorchenv"
  },
  "language_info": {
   "codemirror_mode": {
    "name": "ipython",
    "version": 3
   },
   "file_extension": ".py",
   "mimetype": "text/x-python",
   "name": "python",
   "nbconvert_exporter": "python",
   "pygments_lexer": "ipython3",
   "version": "3.7.3"
  }
 },
 "nbformat": 4,
 "nbformat_minor": 5
}
