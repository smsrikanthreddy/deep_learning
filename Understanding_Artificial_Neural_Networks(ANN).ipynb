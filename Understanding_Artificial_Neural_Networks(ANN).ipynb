{
 "cells": [
  {
   "cell_type": "markdown",
   "id": "noble-indianapolis",
   "metadata": {},
   "source": [
    "# Neural Networks (NN)"
   ]
  },
  {
   "cell_type": "markdown",
   "id": "oriental-personality",
   "metadata": {},
   "source": [
    "Neural networks is one of the fascinating technology solution to implement AI. We can also say neural networks fastend AI implementation in real life along with Big Data and compute. In this post we'll be learning about all the terminologies in Neural Networks.\n",
    "  - `Perceptron Model to Neural Networks`\n",
    "  - `Activation Functions`\n",
    "  - `Cost Functions`\n",
    "  - `Feed Forward Networks`\n",
    "  - `BackPropagation`"
   ]
  },
  {
   "cell_type": "markdown",
   "id": "muslim-playing",
   "metadata": {},
   "source": [
    "### Perceptron Model to Neural Networks"
   ]
  },
  {
   "cell_type": "markdown",
   "id": "respected-discharge",
   "metadata": {},
   "source": [
    "To being understanding of deep learning, we will build up more model abstractions:\n",
    "   - 1. Single Biological Neuron\n",
    "   - 2. Perceptron\n",
    "   - 3. Multi-layer Perceptron model\n",
    "   - 4. Deep Learning Neural Network"
   ]
  },
  {
   "cell_type": "markdown",
   "id": "senior-austria",
   "metadata": {},
   "source": [
    "##### 1. Single Biological Neuron"
   ]
  },
  {
   "cell_type": "markdown",
   "id": "massive-orleans",
   "metadata": {},
   "source": [
    "If the whole idea of deep learning is to have computers to artificially mimic biological natural intelligence then we should probably build a general understanindg of how biological neurons work. So lets first look a how neurons in our brain is represented,\n",
    "\n",
    "![Biological Neuron](images/NN/bilogical_neuron.png)"
   ]
  },
  {
   "cell_type": "markdown",
   "id": "smaller-month",
   "metadata": {},
   "source": [
    "The main parts of biological neuron are,\n",
    "- Dendrites (input)\n",
    "- Nucleus (neuron)\n",
    "- Axon (output)"
   ]
  },
  {
   "cell_type": "markdown",
   "id": "roman-robert",
   "metadata": {},
   "source": [
    "#### 2. Perceptron\n",
    "\n",
    "\".. Perceptron may eventually be able to learn, make decisions, and translate languages\"\n",
    "![Perceptron Model](images/NN/perceptron_model.png)"
   ]
  },
  {
   "cell_type": "markdown",
   "id": "architectural-election",
   "metadata": {},
   "source": [
    "So we want our perceptron model to imitate the real human biological neuron behaviour. Which it does in using the above diagram. To generalize the it more, we will create a mathematical function which is more or less similar to the above one. \n",
    "$$ \\hat{y} = \\sum_{i=1}^{n} x_iw_i + b_i $$"
   ]
  },
  {
   "cell_type": "markdown",
   "id": "relevant-routine",
   "metadata": {},
   "source": [
    "#### 3. Multi-layer Perceptron model"
   ]
  },
  {
   "cell_type": "markdown",
   "id": "framed-peeing",
   "metadata": {},
   "source": [
    "A single layer perceptron is not enough to learn the complicated system/data like today. To solve this \"Multi-Layer Perceptron\" is introduced.\n",
    "![NN](images/NN/NN_Multi_Layer.jpg)\n",
    "\n",
    "Fig :-  A fully connected Neural Network"
   ]
  },
  {
   "cell_type": "markdown",
   "id": "victorian-knife",
   "metadata": {},
   "source": [
    "- The first layer is \"input layer\"\n",
    "- the last layer is \"output layer\" (can be one or more than one)\n",
    "- anything between input and output is called \"hidden layer\""
   ]
  },
  {
   "cell_type": "markdown",
   "id": "considered-diamond",
   "metadata": {},
   "source": [
    "#### 4. Deep Neural Network"
   ]
  },
  {
   "cell_type": "markdown",
   "id": "placed-rehabilitation",
   "metadata": {},
   "source": [
    "A Neural Network which has 2 or more than 2 hidden layers"
   ]
  },
  {
   "cell_type": "markdown",
   "id": "informed-puppy",
   "metadata": {},
   "source": [
    "### Activation Functions"
   ]
  },
  {
   "cell_type": "code",
   "execution_count": null,
   "id": "secret-holder",
   "metadata": {},
   "outputs": [],
   "source": []
  }
 ],
 "metadata": {
  "kernelspec": {
   "display_name": "pytorchenv",
   "language": "python",
   "name": "pytorchenv"
  },
  "language_info": {
   "codemirror_mode": {
    "name": "ipython",
    "version": 3
   },
   "file_extension": ".py",
   "mimetype": "text/x-python",
   "name": "python",
   "nbconvert_exporter": "python",
   "pygments_lexer": "ipython3",
   "version": "3.7.3"
  }
 },
 "nbformat": 4,
 "nbformat_minor": 5
}
