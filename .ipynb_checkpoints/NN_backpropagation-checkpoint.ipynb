{
 "cells": [
  {
   "cell_type": "markdown",
   "id": "outdoor-overall",
   "metadata": {},
   "source": [
    "Fundamentally, we want to know, how the cost function change with update to its weights (w) in the network. So we can update the weights to minimize the cost function. The goal of backpropagation is to optimize the weights so that the neural network can learn how to correctly map arbitrary inputs to outputs."
   ]
  },
  {
   "cell_type": "markdown",
   "id": "northern-nation",
   "metadata": {},
   "source": [
    "#### Backpropagation"
   ]
  },
  {
   "cell_type": "markdown",
   "id": "pregnant-resistance",
   "metadata": {},
   "source": [
    "For this tutorial, we’re going to use a neural network with two inputs, two hidden neurons, two output neurons. Additionally, the hidden and output neurons will include a bias."
   ]
  },
  {
   "cell_type": "markdown",
   "id": "familiar-savage",
   "metadata": {},
   "source": [
    "Here’s the basic structure:\n",
    "\n",
    "![NN](images/NN/NN_1.png)\n",
    "\n",
    "In order to have some numbers to work with, here are the **initial weights**, the **biases**, and **training inputs/outputs**\n",
    "\n",
    "![](images/NN/NN_1_numbers.png)\n",
    "\n",
    "The goal of backpropagation is to optimize the weights so that the neural network can learn how to correctly map arbitrary inputs to outputs.\n",
    "\n",
    "For the rest of this tutorial we’re going to work with a single training set: given inputs 0.05 and 0.10, we want the neural network to output 0.01 and 0.99."
   ]
  },
  {
   "cell_type": "markdown",
   "id": "three-banking",
   "metadata": {},
   "source": [
    "### Feedword pass"
   ]
  },
  {
   "cell_type": "markdown",
   "id": "minute-runner",
   "metadata": {},
   "source": [
    "In order to fully understand **backpropagation**, first we need to compute the feedforward pass. So it is important to understand about the feedforward propagation. Please go through below link before continuing."
   ]
  },
  {
   "cell_type": "markdown",
   "id": "elect-treat",
   "metadata": {},
   "source": [
    "[FeedForward Pass](https://github.com/smsrikanthreddy/deep_learning/blob/main/NN_Feedforward.ipynb)"
   ]
  },
  {
   "cell_type": "markdown",
   "id": "threatened-moore",
   "metadata": {},
   "source": [
    "### Backpropagation"
   ]
  },
  {
   "cell_type": "markdown",
   "id": "offshore-genome",
   "metadata": {},
   "source": [
    "Our goal with backpropagation is to update each of the weights in the network so that they cause the actual output to be closer the target output, thereby minimizing the error for each output neuron and the network as a whole."
   ]
  },
  {
   "cell_type": "markdown",
   "id": "respective-prayer",
   "metadata": {},
   "source": [
    "##### Output Layer"
   ]
  },
  {
   "cell_type": "markdown",
   "id": "promising-lewis",
   "metadata": {},
   "source": [
    "Consider $w_5$. We want to know how much a change in $w_5$ affects the total error, aka $\\frac{\\partial E_{total}}{\\partial w_{5}}.$\n",
    "\n",
    "\n",
    "$\\frac{\\partial E_{total}}{\\partial w_{5}}$ know as partial derivative of $E_{total}$ with respect to $w_5$/gradient with respect to $w_5$\n",
    "\n",
    "By applying the [chain rule](https://en.wikipedia.org/wiki/Chain_rule) we know that:\n",
    "![](images/NN/bp_1.PNG)\n",
    "\n",
    "We need to figure out each piece in this equation.\n",
    "\n",
    "First, how much does the total error change with respect to the output?\n",
    "\n",
    " $$ E_{total} = \\frac{1}{2}(target_{o1} - out_{o1})^2 + \\frac{1}{2}(target_{o2} - out_{o2})^2 $$\n",
    " $$ \\frac{\\partial{E_{total}}}{\\partial{out_{o1}}}  = 2 * \\frac{1}{2} (target_{o1} - out_{o1})^2 * -1 + 0 $$\n",
    " $$ \\frac{\\partial{E_{total}}}{\\partial{out_{o1}}}  = -(target_{o1} - out_{o1}) = -(0.01 - 0.75136507) = 0.74136507 $$\n",
    " \n",
    "Next, how much does the output of o_1 change with respect to its total net input?\n",
    "The partial derivative of the logistic function is the output multiplied by 1 minus the output:\n",
    "\n",
    "$$ out_{o1} = \\frac{1}{1+e^{-net_{o1}}} $$\n",
    "$$ \\frac{\\partial{E_{total}}}{\\partial{out_{o1}}}  = -out_{o1}(1 - out_{o1}) = 0.751365071(1-0.751365071) = 0.186815602 $$\n",
    "\n",
    "Finally, how much does the total net input of o1 change with respect to $w_5$?\n",
    "$$ net_{o1} = w5 * out_{h1} + w5 * out_{h2} + b2 *1 $$\n",
    "$$ \\frac{\\partial{net_{out}}}{\\partial{w_{5}}}  = 1 * out_{h1} * w_{5}^{1-1} + 0 + 0 = out_{h1} = 0.59326992 $$\n",
    "\n",
    "putting it all together:\n",
    "$$ \\frac{\\partial{E_{total}}}{\\partial{w_{5}}}  = \\frac{\\partial{E_{total}}}{\\partial{out_{o1}}} * \\frac{\\partial{E_{total}}}{\\partial{net_{o1}}} * \\frac{\\partial{net_{o1}}}{\\partial{w_{5}}} $$\n",
    "\n",
    "$$ \\frac{\\partial{E_{total}}}{\\partial{w_{5}}}  = 0.74136507 * 0.186815602 * 0.593269992 = 0.082167041 $$\n",
    "![](images/NN/bp_2.PNG)\n",
    "\n",
    "To decrease the error, we then subtract this value from the current weight (optionally multiplied by some learning rate, eta, which we’ll set to 0.5):\n",
    "\n",
    "$$ w_5^{+} = w_{5} - \\eta *  \\frac{\\partial{E_{total}}}{\\partial{w_{5}}} = 0.4 - 0.5 * 0.082167041 = 0.35891648 $$\n",
    "We can repeat this process to get the new weights w_6, w_7, and w_8:\n",
    "\n",
    "$w_6^{+}$ = 0.408666186\n",
    "\n",
    "$w_7^{+}$ = 0.511301270\n",
    "\n",
    "$w_8^{+}$ = 0.561370121\n",
    "\n",
    "We perform the actual updates in the neural network after we have the new weights leading into the hidden layer neurons (ie, we use the original weights, not the updated weights, when we continue the backpropagation algorithm below).\n",
    "\n",
    "#### Hidden Layer\n",
    "Next, we’ll continue the backwards pass by calculating new values for w_1, w_2, w_3, and w_4.\n",
    "\n",
    "Big picture, here’s what we need to figure out:\n",
    "\n",
    "$$ \\frac{\\partial E_{total}}{\\partial w_{1}} = \\frac{\\partial E_{total}}{\\partial out_{h1}} * \\frac{\\partial out_{h1}}{\\partial net_{h1}} * \\frac{\\partial net_{h1}}{\\partial w_{1}} $$\n",
    "\n",
    "Visually:\n",
    "![](images/NN/bp_3.png)\n",
    "\n",
    "We’re going to use a similar process as we did for the output layer, but slightly different to account for the fact that the output of each hidden layer neuron contributes to the output (and therefore error) of multiple output neurons. We know that out_{h1} affects both out_{o1} and out_{o2} therefore the \\frac{\\partial E_{total}}{\\partial out_{h1}} needs to take into consideration its effect on the both output neurons:\n",
    "\n",
    "$$\n",
    "\\frac{\\partial E_{total}}{\\partial out_{h1}} = \\frac{\\partial E_{o1}}{\\partial out_{h1}} + \\frac{\\partial E_{o2}}{\\partial out_{h1}} $$\n",
    "\n",
    " Starting with $$ \\frac{\\partial E_{o1}}{\\partial out_{h1}}:$$\n",
    "\n",
    "$$\\frac{\\partial E_{o1}}{\\partial out_{h1}} = \\frac{\\partial E_{o1}}{\\partial net_{o1}} * \\frac{\\partial net_{o1}}{\\partial out_{h1}}$$\n",
    "\n",
    "We can calculate $$ \\frac{\\partial E_{o1}}{\\partial net_{o1}} $$ using values we calculated earlier:\n",
    "\n",
    "$$ \\frac{\\partial E_{o1}}{\\partial net_{o1}} = \\frac{\\partial E_{o1}}{\\partial out_{o1}} * \\frac{\\partial out_{o1}}{\\partial net_{o1}} = 0.74136507 * 0.186815602 = 0.138498562 $$\n",
    "\n",
    "And $$ \\frac{\\partial net_{o1}}{\\partial out_{h1}} $$ is equal to w_5:\n",
    "\n",
    "$$ net_{o1} = w_5 * out_{h1} + w_6 * out_{h2} + b_2 * 1 $$\n",
    "\n",
    "$$ \\frac{\\partial net_{o1}}{\\partial out_{h1}} = w_5 = 0.40 $$\n",
    "\n",
    "Plugging them in:\n",
    "\n",
    "$$ \\frac{\\partial E_{o1}}{\\partial out_{h1}} = \\frac{\\partial E_{o1}}{\\partial net_{o1}} * \\frac{\\partial net_{o1}}{\\partial out_{h1}} = 0.138498562 * 0.40 = 0.055399425 $$\n",
    "\n",
    "Following the same process for $$ \\frac{\\partial E_{o2}}{\\partial out_{h1}}$$, we get:\n",
    "\n",
    "$$\\frac{\\partial E_{o2}}{\\partial out_{h1}} = -0.019049119$$\n",
    "\n",
    "Therefore:\n",
    "\n",
    "$$\\frac{\\partial E_{total}}{\\partial out_{h1}} = \\frac{\\partial E_{o1}}{\\partial out_{h1}} + \\frac{\\partial E_{o2}}{\\partial out_{h1}} = 0.055399425 + -0.019049119 = 0.036350306 $$\n",
    "\n",
    " Now that we have $$ \\frac{\\partial E_{total}}{\\partial out_{h1}}, we need to figure out \\frac{\\partial out_{h1}}{\\partial net_{h1}} and then \\frac{\\partial net_{h1}}{\\partial w} for each weight: $$\n",
    "\n",
    "$$ out_{h1} = \\frac{1}{1+e^{-net_{h1}}} $$\n",
    "\n",
    "$$ \\frac{\\partial out_{h1}}{\\partial net_{h1}} = out_{h1}(1 - out_{h1}) = 0.59326999(1 - 0.59326999 ) = 0.241300709 $$\n",
    "\n",
    "We calculate the partial derivative of the total net input to h_1 with respect to w_1 the same as we did for the output neuron:\n",
    "\n",
    "$$ net_{h1} = w_1 * i_1 + w_3 * i_2 + b_1 * 1 $$\n",
    "\n",
    "$$ \\frac{\\partial net_{h1}}{\\partial w_1} = i_1 = 0.05 $$\n",
    "\n",
    "Putting it all together:\n",
    "\n",
    "$$ \\frac{\\partial E_{total}}{\\partial w_{1}} = \\frac{\\partial E_{total}}{\\partial out_{h1}} * \\frac{\\partial out_{h1}}{\\partial net_{h1}} * \\frac{\\partial net_{h1}}{\\partial w_{1}} $$\n",
    "\n",
    "$$ \\frac{\\partial E_{total}}{\\partial w_{1}} = 0.036350306 * 0.241300709 * 0.05 = 0.000438568 $$\n",
    "\n",
    "![](images/NN/bp_4.png)\n",
    "\n",
    "We can now update $w_1$:\n",
    "\n",
    "$$w_1^{+} = w_1 - \\eta * \\frac{\\partial E_{total}}{\\partial w_{1}} = 0.15 - 0.5 * 0.000438568 = 0.149780716$$\n",
    "\n",
    "Repeating this for $w_2, w_3, and w_4$\n",
    "\n",
    "$$ w_2^{+} = 0.19956143 $$\n",
    "\n",
    "$$ w_3^{+} = 0.24975114 $$\n",
    "\n",
    "$$ w_4^{+} = 0.29950229 $$\n",
    "\n",
    "Finally, we’ve updated all of our weights! When we fed forward the 0.05 and 0.1 inputs originally, the error on the network was 0.298371109. After this first round of backpropagation, the total error is now down to 0.291027924. It might not seem like much, but after repeating this process 10,000 times, for example, the error plummets to 0.0000351085. At this point, when we feed forward 0.05 and 0.1, the two outputs neurons generate 0.015912196 (vs 0.01 target) and 0.984065734 (vs 0.99 target)."
   ]
  },
  {
   "cell_type": "code",
   "execution_count": null,
   "id": "electric-choice",
   "metadata": {},
   "outputs": [],
   "source": []
  },
  {
   "cell_type": "markdown",
   "id": "manufactured-swing",
   "metadata": {},
   "source": [
    "### References\n",
    "-  https://mattmazur.com/2015/03/17/a-step-by-step-backpropagation-example/\n",
    "-  http://neuralnetworksanddeeplearning.com/chap2.html"
   ]
  },
  {
   "cell_type": "code",
   "execution_count": null,
   "id": "ceramic-danish",
   "metadata": {},
   "outputs": [],
   "source": []
  }
 ],
 "metadata": {
  "kernelspec": {
   "display_name": "pytorchenv",
   "language": "python",
   "name": "pytorchenv"
  },
  "language_info": {
   "codemirror_mode": {
    "name": "ipython",
    "version": 3
   },
   "file_extension": ".py",
   "mimetype": "text/x-python",
   "name": "python",
   "nbconvert_exporter": "python",
   "pygments_lexer": "ipython3",
   "version": "3.7.3"
  }
 },
 "nbformat": 4,
 "nbformat_minor": 5
}
