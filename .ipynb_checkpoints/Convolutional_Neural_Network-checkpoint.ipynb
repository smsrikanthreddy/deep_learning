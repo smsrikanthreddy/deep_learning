{
 "cells": [
  {
   "cell_type": "markdown",
   "id": "innovative-measurement",
   "metadata": {},
   "source": [
    "In this notebook lets understand Convolutional Neural Network (CNN) in detail, its inner workings and an example using pytorch"
   ]
  },
  {
   "cell_type": "markdown",
   "id": "round-glass",
   "metadata": {},
   "source": [
    "Before dwelving into details lets list down different parts of CNNs\n",
    "- Convolutional Layer\n",
    "- Relu Layer\n",
    "- Pooling Layer\n",
    "- Fully-Connected Layer"
   ]
  },
  {
   "cell_type": "markdown",
   "id": "completed-desert",
   "metadata": {},
   "source": [
    "CNN architecture/layers is specifically desgined and used for image data. The ANN (Artificial Neural Network) expects the data to be in 1D format, but CNN can take 2D, 3D data etc."
   ]
  },
  {
   "cell_type": "markdown",
   "id": "union-anatomy",
   "metadata": {},
   "source": [
    "### CNN Architecture\n",
    "![CNN](images/CNN/cnn.png)"
   ]
  },
  {
   "cell_type": "markdown",
   "id": "quality-mississippi",
   "metadata": {},
   "source": [
    "Lets discuss about each layer,"
   ]
  },
  {
   "cell_type": "markdown",
   "id": "enclosed-negative",
   "metadata": {},
   "source": [
    "#### 1. Convolutional Layer\n",
    "\n",
    "In this layer we move a small matrix called \"Convolution\" or \"kernel\" matrix to move around complete input image even for all channels and do a dot product with the pixels values in the image with a matrix and get the result. In this layer we can move 1 step/pixel at a time or 2 step at a time, this is also called **stride**. We can also add padding to image and do the dot product to move over compelte image for convolution matrix."
   ]
  },
  {
   "cell_type": "markdown",
   "id": "conditional-compiler",
   "metadata": {},
   "source": [
    "#### 2. Relu Layer\n",
    "\n",
    "This layer just applies the **Relu** function, values out of Relu would be max(0, x), here x is the input value to Relu.\n",
    "Relu layer will apply an elementwise activation function."
   ]
  },
  {
   "cell_type": "markdown",
   "id": "combined-virginia",
   "metadata": {},
   "source": [
    "#### 3. Pooling Layer\n",
    "\n",
    "In pooling layer we'll reduce the size of the image either by using \"max pooling\" or \"avg pooling\" etc."
   ]
  },
  {
   "cell_type": "markdown",
   "id": "incomplete-blackberry",
   "metadata": {},
   "source": [
    "#### 4. Fully Connected Layer\n",
    "\n",
    "This lyaer helps us in classifying the image to specific class. This layer applies the ANN fully connected concepts in determining class of the image."
   ]
  },
  {
   "cell_type": "markdown",
   "id": "raised-aaron",
   "metadata": {},
   "source": [
    "### References\n",
    "1. https://cs231n.github.io/convolutional-networks/"
   ]
  },
  {
   "cell_type": "code",
   "execution_count": null,
   "id": "mysterious-sacrifice",
   "metadata": {},
   "outputs": [],
   "source": []
  }
 ],
 "metadata": {
  "kernelspec": {
   "display_name": "pytorchenv",
   "language": "python",
   "name": "pytorchenv"
  },
  "language_info": {
   "codemirror_mode": {
    "name": "ipython",
    "version": 3
   },
   "file_extension": ".py",
   "mimetype": "text/x-python",
   "name": "python",
   "nbconvert_exporter": "python",
   "pygments_lexer": "ipython3",
   "version": "3.7.3"
  }
 },
 "nbformat": 4,
 "nbformat_minor": 5
}
